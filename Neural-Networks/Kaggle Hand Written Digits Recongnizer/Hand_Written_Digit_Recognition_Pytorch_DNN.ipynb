{
 "cells": [
  {
   "cell_type": "code",
   "execution_count": 149,
   "metadata": {},
   "outputs": [],
   "source": [
    "import torch\n",
    "import torch.nn as nn\n",
    "import torch.nn.functional as F\n",
    "from torch.utils.data import Dataset, DataLoader\n",
    "from torch.utils.data.sampler import SubsetRandomSampler , WeightedRandomSampler\n",
    "from tqdm import tqdm\n",
    "\n",
    "import numpy as np\n",
    "import pandas as pd\n",
    "import matplotlib.pyplot as plt\n",
    "from matplotlib.animation import FuncAnimation\n",
    "%matplotlib inline"
   ]
  },
  {
   "cell_type": "code",
   "execution_count": 150,
   "metadata": {},
   "outputs": [],
   "source": [
    "# train = pd.read_csv('Data/train.csv')"
   ]
  },
  {
   "cell_type": "code",
   "execution_count": 151,
   "metadata": {},
   "outputs": [],
   "source": [
    "# train_X = torch.from_numpy(np.array(train.drop('label',axis=1)))\n",
    "# train_y = torch.from_numpy(np.array(train['label']))"
   ]
  },
  {
   "cell_type": "code",
   "execution_count": 152,
   "metadata": {},
   "outputs": [],
   "source": [
    "# subset_idx = torch.cat((torch.arange(64),torch.arange(-train_X.shape[1],0)))"
   ]
  },
  {
   "cell_type": "code",
   "execution_count": 153,
   "metadata": {},
   "outputs": [],
   "source": [
    "# class_sample_count = torch.tensor(\n",
    "#     [(train_y[subset_idx] == t).sum() for t in torch.unique(train_y, sorted=True)])\n",
    "# weight = 1. / class_sample_count.float()\n",
    "# samples_weight = torch.tensor([weight[t] for t in train_y[subset_idx]])"
   ]
  },
  {
   "cell_type": "code",
   "execution_count": 154,
   "metadata": {},
   "outputs": [],
   "source": [
    "# sampler = WeightedRandomSampler(samples_weight, len(samples_weight))\n",
    "# train_dataset = torch.utils.data.TensorDataset(\n",
    "#     train_X[subset_idx], train_y[subset_idx])"
   ]
  },
  {
   "cell_type": "code",
   "execution_count": 155,
   "metadata": {},
   "outputs": [],
   "source": [
    "# train_loader = DataLoader( train_dataset, batch_size=64, num_workers=1, sampler=sampler)"
   ]
  },
  {
   "cell_type": "code",
   "execution_count": 160,
   "metadata": {},
   "outputs": [],
   "source": [
    "class DigitDataset(Dataset):\n",
    "    \n",
    "    def __init__(self,root_dir,train=True):\n",
    "        data = np.array(pd.read_csv(root_dir))\n",
    "        self.len = data.shape[0]\n",
    "        self.train = train\n",
    "        if train:\n",
    "            self.x_data = torch.from_numpy(data[:,1:]/255)\n",
    "            self.y_data = torch.from_numpy(data[:,0])\n",
    "        else:    \n",
    "            self.x_data = torch.from_numpy(data/255)\n",
    "            \n",
    "    def __getitem__(self,index):\n",
    "        if self.train == False :\n",
    "            return self.x_data[index] \n",
    "        else:\n",
    "            return self.x_data[index] , self.y_data[index]\n",
    "        \n",
    "    def __len__(self):\n",
    "        return self.len\n",
    "        "
   ]
  },
  {
   "cell_type": "code",
   "execution_count": 180,
   "metadata": {},
   "outputs": [],
   "source": [
    "traindata = DigitDataset('Data/train.csv')\n",
    "testdata = DigitDataset('Data/test.csv',train=False)"
   ]
  },
  {
   "cell_type": "code",
   "execution_count": 186,
   "metadata": {},
   "outputs": [],
   "source": [
    "validation_split = 0.8\n",
    "dataset_size = len(traindata)\n",
    "indices = list(range(dataset_size))\n",
    "split = int(np.floor(validation_split * dataset_size))\n",
    "if 1 :\n",
    "    np.random.seed(123)\n",
    "train_indices, valid_indices = indices[:split], indices[split:]\n",
    "train_sampler = SubsetRandomSampler(train_indices)\n",
    "valid_sampler = SubsetRandomSampler(valid_indices)"
   ]
  },
  {
   "cell_type": "code",
   "execution_count": 315,
   "metadata": {},
   "outputs": [],
   "source": [
    "train_set = DataLoader(dataset=traindata,batch_size=512,sampler=train_sampler)\n",
    "val_set = DataLoader(dataset=traindata,batch_size=512,sampler=valid_sampler)\n",
    "test_set = DataLoader(dataset=testdata,batch_size=512,shuffle=True)"
   ]
  },
  {
   "cell_type": "code",
   "execution_count": 316,
   "metadata": {},
   "outputs": [],
   "source": [
    "class Net(nn.Module):\n",
    "    def __init__(self):\n",
    "        super(Net,self).__init__()\n",
    "        \n",
    "        self.classifer = nn.Sequential (\n",
    "            \n",
    "            nn.Linear(784,64),\n",
    "            nn.BatchNorm1d(64),\n",
    "            nn.ReLU(),\n",
    "            nn.Linear(64,64),\n",
    "            nn.BatchNorm1d(64),\n",
    "            nn.ReLU(),\n",
    "            nn.Linear(64,32),\n",
    "            nn.BatchNorm1d(32),\n",
    "            nn.ReLU(),\n",
    "            nn.Linear(32,16),\n",
    "            nn.BatchNorm1d(16),\n",
    "            nn.Linear(16,10),\n",
    "            nn.LogSoftmax(dim=1) \n",
    "        )\n",
    "    \n",
    "    def forward(self,x):\n",
    "        x = self.classifer(x) \n",
    "        return x"
   ]
  },
  {
   "cell_type": "code",
   "execution_count": 317,
   "metadata": {},
   "outputs": [],
   "source": [
    "import torch.optim as optim"
   ]
  },
  {
   "cell_type": "code",
   "execution_count": 318,
   "metadata": {},
   "outputs": [],
   "source": [
    "net = Net()"
   ]
  },
  {
   "cell_type": "code",
   "execution_count": 380,
   "metadata": {},
   "outputs": [],
   "source": [
    "def training(train_set=train_set):\n",
    "\n",
    "    EPOCHS = 60\n",
    "\n",
    "    LOSS = []\n",
    "    \n",
    "    LR = 0.0001\n",
    "    \n",
    "    seed = 3\n",
    "    \n",
    "    for epoch in tqdm(range(EPOCHS)): \n",
    "#         if epoch > 7:\n",
    "#             LR = LR/100\n",
    "        optimizer = optim.Adam(net.parameters(),lr=LR,weight_decay=0.2)    \n",
    "        for data in train_set:\n",
    "            X,y = data\n",
    "            net.zero_grad()\n",
    "            output = net((X/255).float())\n",
    "            loss = F.nll_loss(output,y)\n",
    "            loss.backward()\n",
    "            optimizer.step()\n",
    "#         if epoch % 2 == 0:\n",
    "        LOSS.append(loss)\n",
    "        if epoch+1 % 50 == 0:\n",
    "            print(loss)    \n",
    "            \n",
    "    plt.plot(LOSS)\n",
    "    return LOSS"
   ]
  },
  {
   "cell_type": "code",
   "execution_count": 381,
   "metadata": {
    "scrolled": true
   },
   "outputs": [],
   "source": [
    " def val(val_set=val_set,train_set=train_set):\n",
    "    wrong_idx = []    \n",
    "    correct1 = 0\n",
    "    total1 = 0\n",
    "    correct2 = 0\n",
    "    total2 = 0\n",
    "    with torch.no_grad():\n",
    "        for data in val_set:\n",
    "            X,y = data\n",
    "            output1 = net((X/255).float())\n",
    "            for idx,i in enumerate(output1):\n",
    "                if torch.argmax(i) == y[idx]:\n",
    "                    correct1+=1\n",
    "                else:\n",
    "                    wrong_idx.append(idx)\n",
    "                total1+=1\n",
    "        for data in train_set:    \n",
    "            X,y = data\n",
    "            output2 = net((X/255).float())\n",
    "            for idx,i in enumerate(output2):\n",
    "                if torch.argmax(i) == y[idx]:\n",
    "                    correct2+=1\n",
    "                else:\n",
    "                    wrong_idx.append(idx)\n",
    "                total2+=1\n",
    "    print(f'val accuacy:{correct1/total1}')\n",
    "    print(f'train accuacy:{correct2/total2}')    "
   ]
  },
  {
   "cell_type": "code",
   "execution_count": 382,
   "metadata": {
    "scrolled": true
   },
   "outputs": [
    {
     "name": "stderr",
     "output_type": "stream",
     "text": [
      "100%|██████████████████████████████████████████████████████████████████████████████████| 60/60 [03:04<00:00,  3.07s/it]\n"
     ]
    },
    {
     "name": "stdout",
     "output_type": "stream",
     "text": [
      "val accuacy:0.976547619047619\n",
      "train accuacy:0.9976785714285714\n"
     ]
    },
    {
     "data": {
      "image/png": "[encoded data removed]",
      "text/plain": [
       "<Figure size 432x288 with 1 Axes>"
      ]
     },
     "metadata": {
      "needs_background": "light"
     },
     "output_type": "display_data"
    }
   ],
   "source": [
    "net = Net()\n",
    "LOSS = training()\n",
    "val()"
   ]
  },
  {
   "cell_type": "code",
   "execution_count": 361,
   "metadata": {},
   "outputs": [
    {
     "data": {
      "text/plain": [
       "[tensor(1.5984, grad_fn=<NllLossBackward>),\n",
       " tensor(1.2555, grad_fn=<NllLossBackward>),\n",
       " tensor(1.0981, grad_fn=<NllLossBackward>),\n",
       " tensor(1.0262, grad_fn=<NllLossBackward>),\n",
       " tensor(0.9311, grad_fn=<NllLossBackward>),\n",
       " tensor(0.8771, grad_fn=<NllLossBackward>),\n",
       " tensor(0.8391, grad_fn=<NllLossBackward>),\n",
       " tensor(0.7973, grad_fn=<NllLossBackward>),\n",
       " tensor(0.7456, grad_fn=<NllLossBackward>),\n",
       " tensor(0.7269, grad_fn=<NllLossBackward>),\n",
       " tensor(0.7003, grad_fn=<NllLossBackward>),\n",
       " tensor(0.6746, grad_fn=<NllLossBackward>),\n",
       " tensor(0.6673, grad_fn=<NllLossBackward>),\n",
       " tensor(0.6368, grad_fn=<NllLossBackward>),\n",
       " tensor(0.6249, grad_fn=<NllLossBackward>),\n",
       " tensor(0.6067, grad_fn=<NllLossBackward>),\n",
       " tensor(0.6222, grad_fn=<NllLossBackward>),\n",
       " tensor(0.5900, grad_fn=<NllLossBackward>),\n",
       " tensor(0.5908, grad_fn=<NllLossBackward>),\n",
       " tensor(0.5775, grad_fn=<NllLossBackward>),\n",
       " tensor(0.5876, grad_fn=<NllLossBackward>),\n",
       " tensor(0.5794, grad_fn=<NllLossBackward>),\n",
       " tensor(0.5576, grad_fn=<NllLossBackward>),\n",
       " tensor(0.5821, grad_fn=<NllLossBackward>),\n",
       " tensor(0.5707, grad_fn=<NllLossBackward>),\n",
       " tensor(0.5801, grad_fn=<NllLossBackward>),\n",
       " tensor(0.5687, grad_fn=<NllLossBackward>),\n",
       " tensor(0.5905, grad_fn=<NllLossBackward>),\n",
       " tensor(0.5866, grad_fn=<NllLossBackward>),\n",
       " tensor(0.5898, grad_fn=<NllLossBackward>)]"
      ]
     },
     "execution_count": 361,
     "metadata": {},
     "output_type": "execute_result"
    }
   ],
   "source": [
    "LOSS"
   ]
  },
  {
   "cell_type": "code",
   "execution_count": 325,
   "metadata": {},
   "outputs": [
    {
     "data": {
      "text/plain": [
       "[<matplotlib.lines.Line2D at 0x29f2acbb388>]"
      ]
     },
     "execution_count": 325,
     "metadata": {},
     "output_type": "execute_result"
    },
    {
     "data": {
      "image/png": "[encoded data removed]",
      "text/plain": [
       "<Figure size 432x288 with 1 Axes>"
      ]
     },
     "metadata": {
      "needs_background": "light"
     },
     "output_type": "display_data"
    }
   ],
   "source": [
    "plt.plot(LOSS[60:100])"
   ]
  },
  {
   "cell_type": "code",
   "execution_count": 42,
   "metadata": {},
   "outputs": [],
   "source": [
    "predictions = net(test_X)"
   ]
  },
  {
   "cell_type": "code",
   "execution_count": 43,
   "metadata": {},
   "outputs": [],
   "source": [
    "final_predictions = []\n",
    "for i in range(len(predictions)):\n",
    "    final_predictions.append(torch.argmax(predictions[i]))"
   ]
  },
  {
   "cell_type": "code",
   "execution_count": 44,
   "metadata": {},
   "outputs": [],
   "source": [
    "pred = np.array(final_predictions)"
   ]
  },
  {
   "cell_type": "code",
   "execution_count": 45,
   "metadata": {},
   "outputs": [],
   "source": [
    "predictions = pd.DataFrame(pred,columns=['Label'])"
   ]
  },
  {
   "cell_type": "code",
   "execution_count": 46,
   "metadata": {},
   "outputs": [],
   "source": [
    "predictions = pd.concat([pd.DataFrame({'ImageId':np.arange(1,28001,1)}),predictions],axis=1)"
   ]
  },
  {
   "cell_type": "code",
   "execution_count": 47,
   "metadata": {},
   "outputs": [],
   "source": [
    "predictions.to_csv('../Digit/Data/submission2.csv',index=False)"
   ]
  },
  {
   "cell_type": "code",
   "execution_count": 101,
   "metadata": {},
   "outputs": [],
   "source": [
    "y = torch.cat((torch.arange(100),torch.arange(-5,0)))"
   ]
  },
  {
   "cell_type": "code",
   "execution_count": 104,
   "metadata": {},
   "outputs": [
    {
     "data": {
      "text/plain": [
       "tensor([-5, -4, -3, -2, -1,  0,  1,  2,  3,  4,  5,  6,  7,  8,  9, 10, 11, 12,\n",
       "        13, 14, 15, 16, 17, 18, 19, 20, 21, 22, 23, 24, 25, 26, 27, 28, 29, 30,\n",
       "        31, 32, 33, 34, 35, 36, 37, 38, 39, 40, 41, 42, 43, 44, 45, 46, 47, 48,\n",
       "        49, 50, 51, 52, 53, 54, 55, 56, 57, 58, 59, 60, 61, 62, 63, 64, 65, 66,\n",
       "        67, 68, 69, 70, 71, 72, 73, 74, 75, 76, 77, 78, 79, 80, 81, 82, 83, 84,\n",
       "        85, 86, 87, 88, 89, 90, 91, 92, 93, 94, 95, 96, 97, 98, 99])"
      ]
     },
     "execution_count": 104,
     "metadata": {},
     "output_type": "execute_result"
    }
   ],
   "source": [
    "torch.unique(y,sorted = True)"
   ]
  },
  {
   "cell_type": "code",
   "execution_count": null,
   "metadata": {},
   "outputs": [],
   "source": [
    "y"
   ]
  }
 ],
 "metadata": {
  "kernelspec": {
   "display_name": "Python 3",
   "language": "python",
   "name": "python3"
  },
  "language_info": {
   "codemirror_mode": {
    "name": "ipython",
    "version": 3
   },
   "file_extension": ".py",
   "mimetype": "text/x-python",
   "name": "python",
   "nbconvert_exporter": "python",
   "pygments_lexer": "ipython3",
   "version": "3.7.6"
  }
 },
 "nbformat": 4,
 "nbformat_minor": 4
}
