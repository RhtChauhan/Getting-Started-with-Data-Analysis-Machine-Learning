{
 "cells": [
  {
   "cell_type": "code",
   "execution_count": 1,
   "metadata": {},
   "outputs": [],
   "source": [
    "%store -r __impC"
   ]
  },
  {
   "cell_type": "code",
   "execution_count": 2,
   "metadata": {},
   "outputs": [],
   "source": [
    "__impC"
   ]
  },
  {
   "cell_type": "code",
   "execution_count": 3,
   "metadata": {},
   "outputs": [],
   "source": [
    "%store -r __SNKF"
   ]
  },
  {
   "cell_type": "code",
   "execution_count": 4,
   "metadata": {},
   "outputs": [],
   "source": [
    "__SNKF"
   ]
  },
  {
   "cell_type": "markdown",
   "metadata": {},
   "source": [
    "READING DATA"
   ]
  },
  {
   "cell_type": "code",
   "execution_count": 5,
   "metadata": {},
   "outputs": [],
   "source": [
    "train = pd.read_csv('Data/train.csv')\n",
    "test = pd.read_csv('Data/test.csv')"
   ]
  },
  {
   "cell_type": "code",
   "execution_count": 6,
   "metadata": {},
   "outputs": [],
   "source": [
    "def group_df(x,y):\n",
    "    return pd.concat([x,y],sort=True).reset_index(drop=True) \n",
    "\n",
    "def split_df(x):\n",
    "    return x[:891] , x[891:].drop('Survived',axis=1)   "
   ]
  },
  {
   "cell_type": "code",
   "execution_count": 7,
   "metadata": {},
   "outputs": [],
   "source": [
    "df_all = group_df(train,test)\n",
    "df_train = train.copy()\n",
    "df_test = test.copy()\n",
    "\n",
    "dfs = [df_train,df_test]\n",
    "\n",
    "df_all.name = 'ALL DATA'\n",
    "df_train.name = 'TRAIN DATA'\n",
    "df_test.name = 'TEST DATA'"
   ]
  },
  {
   "cell_type": "markdown",
   "metadata": {},
   "source": [
    "MISSING VALUES"
   ]
  },
  {
   "cell_type": "code",
   "execution_count": 8,
   "metadata": {},
   "outputs": [],
   "source": [
    "df_all['Age'] = df_all.groupby(['Pclass','Sex'])['Age'].apply(lambda x : x.fillna(x.median()))"
   ]
  },
  {
   "cell_type": "code",
   "execution_count": 9,
   "metadata": {},
   "outputs": [],
   "source": [
    "df_all['Embarked'] = df_all['Embarked'].fillna('S')    #Embarked"
   ]
  },
  {
   "cell_type": "code",
   "execution_count": 10,
   "metadata": {},
   "outputs": [],
   "source": [
    "med_fare = df_all.groupby(['Pclass', 'Parch', 'SibSp']).Fare.median()[3][0][0]  #median fare\n",
    "df_all['Fare'] = df_all['Fare'].fillna(med_fare)"
   ]
  },
  {
   "cell_type": "code",
   "execution_count": 11,
   "metadata": {},
   "outputs": [],
   "source": [
    "df_all['Deck'] = df_all['Cabin'].apply(lambda x : x[0] if pd.isna(x) == False else x)\n",
    "df_all['Deck'] = df_all['Deck'].replace('T','A')\n",
    "df_all['Deck'] = df_all['Deck'].replace(['A','B','C'],'ABC')\n",
    "df_all['Deck'] = df_all['Deck'].replace(['D','E'],'DE')\n",
    "df_all['Deck'] = df_all['Deck'].replace(['F','G'],'FG')\n",
    "df_all['Deck'] = df_all['Deck'].fillna('M')"
   ]
  },
  {
   "cell_type": "code",
   "execution_count": 12,
   "metadata": {},
   "outputs": [
    {
     "name": "stdout",
     "output_type": "stream",
     "text": [
      "<class 'pandas.core.frame.DataFrame'>\n",
      "RangeIndex: 1309 entries, 0 to 1308\n",
      "Data columns (total 13 columns):\n",
      " #   Column       Non-Null Count  Dtype  \n",
      "---  ------       --------------  -----  \n",
      " 0   Age          1309 non-null   float64\n",
      " 1   Cabin        295 non-null    object \n",
      " 2   Embarked     1309 non-null   object \n",
      " 3   Fare         1309 non-null   float64\n",
      " 4   Name         1309 non-null   object \n",
      " 5   Parch        1309 non-null   int64  \n",
      " 6   PassengerId  1309 non-null   int64  \n",
      " 7   Pclass       1309 non-null   int64  \n",
      " 8   Sex          1309 non-null   object \n",
      " 9   SibSp        1309 non-null   int64  \n",
      " 10  Survived     891 non-null    float64\n",
      " 11  Ticket       1309 non-null   object \n",
      " 12  Deck         1309 non-null   object \n",
      "dtypes: float64(3), int64(4), object(6)\n",
      "memory usage: 133.1+ KB\n"
     ]
    }
   ],
   "source": [
    "df_all.info()"
   ]
  },
  {
   "cell_type": "markdown",
   "metadata": {},
   "source": [
    "Feature Engineering"
   ]
  },
  {
   "cell_type": "code",
   "execution_count": 13,
   "metadata": {},
   "outputs": [],
   "source": [
    "df_all['Fare'] = pd.qcut(df_all['Fare'], 13)"
   ]
  },
  {
   "cell_type": "code",
   "execution_count": 14,
   "metadata": {},
   "outputs": [],
   "source": [
    "df_all['Age'] = pd.qcut(df_all['Age'],10)"
   ]
  },
  {
   "cell_type": "code",
   "execution_count": 15,
   "metadata": {},
   "outputs": [],
   "source": [
    "df_all['Family_Size'] = df_all[['SibSp','Parch']].apply(lambda x : 'Alone' if x[0]+x[1]+1 == 1 else 'Small' if 1< x[0]+x[1]+1 < 5 else 'Medium' if 4 < x[0]+x[1]+1 < 7 else 'Large',axis=1)  "
   ]
  },
  {
   "cell_type": "code",
   "execution_count": 16,
   "metadata": {},
   "outputs": [],
   "source": [
    "df_all['Ticket_Frq'] = df_all.groupby('Ticket')['Ticket'].transform('count')"
   ]
  },
  {
   "cell_type": "code",
   "execution_count": 17,
   "metadata": {},
   "outputs": [],
   "source": [
    "df_train,df_test = split_df(df_all) "
   ]
  },
  {
   "cell_type": "code",
   "execution_count": 18,
   "metadata": {},
   "outputs": [],
   "source": [
    "L = [1,2,3,4,5,6,7,8]\n",
    "D = {1:0,2:0,3:0,4:0,5:0,6:0,7:0,8:0,11:0}\n",
    "for i in L:\n",
    "    D[i] = D[i] + round(df_train.groupby(['Ticket_Frq','Survived'])['Age'].count()[i][1]/(df_train.groupby(['Ticket_Frq','Survived'])['Age'].count()[i][1]+df_train.groupby(['Ticket_Frq','Survived'])['Age'].count()[i][0]),2) \n",
    "    \n",
    "D[11] = 0    "
   ]
  },
  {
   "cell_type": "code",
   "execution_count": 19,
   "metadata": {},
   "outputs": [],
   "source": [
    "df_all['Ticket_sr'] = df_all['Ticket_Frq'].apply(lambda x : D[x] if x in D.keys() else x)"
   ]
  },
  {
   "cell_type": "code",
   "execution_count": 20,
   "metadata": {},
   "outputs": [],
   "source": [
    "#df_all['Family'] = df_all['Name'].apply(lambda x : x.split(',')[0])"
   ]
  },
  {
   "cell_type": "code",
   "execution_count": 21,
   "metadata": {},
   "outputs": [],
   "source": [
    "#df_train,df_test = split_df(df_all) "
   ]
  },
  {
   "cell_type": "code",
   "execution_count": 22,
   "metadata": {},
   "outputs": [],
   "source": [
    "#df_train.groupby(['Family','Survived']).count()['Age']"
   ]
  },
  {
   "cell_type": "code",
   "execution_count": 23,
   "metadata": {},
   "outputs": [],
   "source": [
    "def get_title(name):\n",
    "    return name.split(',')[1].split('.')[0]"
   ]
  },
  {
   "cell_type": "code",
   "execution_count": 24,
   "metadata": {},
   "outputs": [],
   "source": [
    "df_all['Title'] = df_all['Name'].apply(get_title)"
   ]
  },
  {
   "cell_type": "code",
   "execution_count": 25,
   "metadata": {},
   "outputs": [
    {
     "data": {
      "text/plain": [
       "array([' Mr', ' Mrs', ' Miss', ' Master', ' Don', ' Rev', ' Dr', ' Mme',\n",
       "       ' Ms', ' Major', ' Lady', ' Sir', ' Mlle', ' Col', ' Capt',\n",
       "       ' the Countess', ' Jonkheer', ' Dona'], dtype=object)"
      ]
     },
     "execution_count": 25,
     "metadata": {},
     "output_type": "execute_result"
    }
   ],
   "source": [
    "df_all['Title'].unique()"
   ]
  },
  {
   "cell_type": "code",
   "execution_count": 26,
   "metadata": {},
   "outputs": [],
   "source": [
    "df_all['Title'] = df_all['Title'].replace([' Miss', ' Ms', ' Mrs',' Lady',' the Countess',' Dona',' Mme'],'Female')\n",
    "df_all['Title'] = df_all['Title'].replace([' Don',' Mlle',' Dr', ' Rev',' Major',' Sir',' Col',' Capt',' Jonkheer'],'Rare')"
   ]
  },
  {
   "cell_type": "code",
   "execution_count": 27,
   "metadata": {},
   "outputs": [],
   "source": [
    "df_all['Married_Woman'] = df_all['Name'].apply(get_title).apply(lambda x : 1 if x == ' Mrs' else 0)"
   ]
  },
  {
   "cell_type": "markdown",
   "metadata": {},
   "source": [
    "Feature Transforation"
   ]
  },
  {
   "cell_type": "code",
   "execution_count": 28,
   "metadata": {},
   "outputs": [],
   "source": [
    "df_all = df_all.drop(['Cabin','Name','SibSp','PassengerId','Parch','Ticket','Ticket_Frq'],axis=1)"
   ]
  },
  {
   "cell_type": "code",
   "execution_count": 29,
   "metadata": {},
   "outputs": [
    {
     "name": "stdout",
     "output_type": "stream",
     "text": [
      "<class 'pandas.core.frame.DataFrame'>\n",
      "RangeIndex: 1309 entries, 0 to 1308\n",
      "Data columns (total 11 columns):\n",
      " #   Column         Non-Null Count  Dtype   \n",
      "---  ------         --------------  -----   \n",
      " 0   Age            1309 non-null   category\n",
      " 1   Embarked       1309 non-null   object  \n",
      " 2   Fare           1309 non-null   category\n",
      " 3   Pclass         1309 non-null   int64   \n",
      " 4   Sex            1309 non-null   object  \n",
      " 5   Survived       891 non-null    float64 \n",
      " 6   Deck           1309 non-null   object  \n",
      " 7   Family_Size    1309 non-null   object  \n",
      " 8   Ticket_sr      1309 non-null   float64 \n",
      " 9   Title          1309 non-null   object  \n",
      " 10  Married_Woman  1309 non-null   int64   \n",
      "dtypes: category(2), float64(2), int64(2), object(5)\n",
      "memory usage: 96.0+ KB\n"
     ]
    }
   ],
   "source": [
    "df_all.info()"
   ]
  },
  {
   "cell_type": "code",
   "execution_count": 30,
   "metadata": {},
   "outputs": [],
   "source": [
    "def fact(X):\n",
    "    for c in X.select_dtypes(object).columns:\n",
    "        X[c] = X[c].factorize()[0]"
   ]
  },
  {
   "cell_type": "code",
   "execution_count": 31,
   "metadata": {},
   "outputs": [],
   "source": [
    "fact(df_all)"
   ]
  },
  {
   "cell_type": "code",
   "execution_count": 32,
   "metadata": {},
   "outputs": [],
   "source": [
    "#df_all.groupby('Family')['Family'].transform('count').unique()"
   ]
  },
  {
   "cell_type": "code",
   "execution_count": 33,
   "metadata": {},
   "outputs": [],
   "source": [
    "cat_features = ['Embarked','Pclass','Deck','Family_Size','Title']\n",
    "\n",
    "for feature in cat_features:\n",
    "    df_feature = pd.get_dummies(df_all[feature],drop_first=True).to_numpy()\n",
    "    col = []\n",
    "    for i  in range(df_feature.shape[1]):\n",
    "        col.append(f'{feature}_{i}')\n",
    "    df_feature = pd.DataFrame(df_feature,columns=col)  \n",
    "    df_all = pd.concat([df_all,df_feature],axis=1)\n",
    "    df_all = df_all.drop(feature,axis=1)\n",
    "    "
   ]
  },
  {
   "cell_type": "code",
   "execution_count": 34,
   "metadata": {},
   "outputs": [],
   "source": [
    "df_all['Age'] = pd.DataFrame(pd.factorize(df_all['Age'])[0],columns=['Age'])\n",
    "\n",
    "df_all['Fare'] = pd.DataFrame(pd.factorize(df_all['Fare'])[0],columns=['Fare'])"
   ]
  },
  {
   "cell_type": "code",
   "execution_count": 35,
   "metadata": {},
   "outputs": [],
   "source": [
    "scaler = StandardScaler()\n",
    "df_all['Age'] = pd.DataFrame(scaler.fit_transform(df_all['Age'].values.reshape(-1,1)),columns=['Age'])\n",
    "df_all['Fare'] = pd.DataFrame(scaler.fit_transform(df_all['Fare'].values.reshape(-1,1)),columns=['Fare'])"
   ]
  },
  {
   "cell_type": "code",
   "execution_count": 36,
   "metadata": {},
   "outputs": [
    {
     "data": {
      "text/html": [
       "<div>\n",
       "<style scoped>\n",
       "    .dataframe tbody tr th:only-of-type {\n",
       "        vertical-align: middle;\n",
       "    }\n",
       "\n",
       "    .dataframe tbody tr th {\n",
       "        vertical-align: top;\n",
       "    }\n",
       "\n",
       "    .dataframe thead th {\n",
       "        text-align: right;\n",
       "    }\n",
       "</style>\n",
       "<table border=\"1\" class=\"dataframe\">\n",
       "  <thead>\n",
       "    <tr style=\"text-align: right;\">\n",
       "      <th></th>\n",
       "      <th>Age</th>\n",
       "      <th>Fare</th>\n",
       "      <th>Sex</th>\n",
       "      <th>Survived</th>\n",
       "      <th>Ticket_sr</th>\n",
       "      <th>Married_Woman</th>\n",
       "      <th>Embarked_0</th>\n",
       "      <th>Embarked_1</th>\n",
       "      <th>Pclass_0</th>\n",
       "      <th>Pclass_1</th>\n",
       "      <th>Deck_0</th>\n",
       "      <th>Deck_1</th>\n",
       "      <th>Deck_2</th>\n",
       "      <th>Family_Size_0</th>\n",
       "      <th>Family_Size_1</th>\n",
       "      <th>Family_Size_2</th>\n",
       "      <th>Title_0</th>\n",
       "      <th>Title_1</th>\n",
       "      <th>Title_2</th>\n",
       "    </tr>\n",
       "  </thead>\n",
       "  <tbody>\n",
       "    <tr>\n",
       "      <th>0</th>\n",
       "      <td>-1.683026</td>\n",
       "      <td>-1.594202</td>\n",
       "      <td>0</td>\n",
       "      <td>0.0</td>\n",
       "      <td>0.27</td>\n",
       "      <td>0</td>\n",
       "      <td>0</td>\n",
       "      <td>0</td>\n",
       "      <td>0</td>\n",
       "      <td>1</td>\n",
       "      <td>0</td>\n",
       "      <td>0</td>\n",
       "      <td>0</td>\n",
       "      <td>0</td>\n",
       "      <td>0</td>\n",
       "      <td>0</td>\n",
       "      <td>0</td>\n",
       "      <td>0</td>\n",
       "      <td>0</td>\n",
       "    </tr>\n",
       "    <tr>\n",
       "      <th>1</th>\n",
       "      <td>-1.323457</td>\n",
       "      <td>-1.325249</td>\n",
       "      <td>1</td>\n",
       "      <td>1.0</td>\n",
       "      <td>0.51</td>\n",
       "      <td>1</td>\n",
       "      <td>1</td>\n",
       "      <td>0</td>\n",
       "      <td>0</td>\n",
       "      <td>0</td>\n",
       "      <td>1</td>\n",
       "      <td>0</td>\n",
       "      <td>0</td>\n",
       "      <td>0</td>\n",
       "      <td>0</td>\n",
       "      <td>0</td>\n",
       "      <td>1</td>\n",
       "      <td>0</td>\n",
       "      <td>0</td>\n",
       "    </tr>\n",
       "    <tr>\n",
       "      <th>2</th>\n",
       "      <td>-0.963887</td>\n",
       "      <td>-1.056295</td>\n",
       "      <td>1</td>\n",
       "      <td>1.0</td>\n",
       "      <td>0.27</td>\n",
       "      <td>0</td>\n",
       "      <td>0</td>\n",
       "      <td>0</td>\n",
       "      <td>0</td>\n",
       "      <td>1</td>\n",
       "      <td>0</td>\n",
       "      <td>0</td>\n",
       "      <td>0</td>\n",
       "      <td>1</td>\n",
       "      <td>0</td>\n",
       "      <td>0</td>\n",
       "      <td>1</td>\n",
       "      <td>0</td>\n",
       "      <td>0</td>\n",
       "    </tr>\n",
       "    <tr>\n",
       "      <th>3</th>\n",
       "      <td>-1.323457</td>\n",
       "      <td>-0.787341</td>\n",
       "      <td>1</td>\n",
       "      <td>1.0</td>\n",
       "      <td>0.51</td>\n",
       "      <td>1</td>\n",
       "      <td>0</td>\n",
       "      <td>0</td>\n",
       "      <td>0</td>\n",
       "      <td>0</td>\n",
       "      <td>1</td>\n",
       "      <td>0</td>\n",
       "      <td>0</td>\n",
       "      <td>0</td>\n",
       "      <td>0</td>\n",
       "      <td>0</td>\n",
       "      <td>1</td>\n",
       "      <td>0</td>\n",
       "      <td>0</td>\n",
       "    </tr>\n",
       "    <tr>\n",
       "      <th>4</th>\n",
       "      <td>-1.323457</td>\n",
       "      <td>-1.056295</td>\n",
       "      <td>0</td>\n",
       "      <td>0.0</td>\n",
       "      <td>0.27</td>\n",
       "      <td>0</td>\n",
       "      <td>0</td>\n",
       "      <td>0</td>\n",
       "      <td>0</td>\n",
       "      <td>1</td>\n",
       "      <td>0</td>\n",
       "      <td>0</td>\n",
       "      <td>0</td>\n",
       "      <td>1</td>\n",
       "      <td>0</td>\n",
       "      <td>0</td>\n",
       "      <td>0</td>\n",
       "      <td>0</td>\n",
       "      <td>0</td>\n",
       "    </tr>\n",
       "    <tr>\n",
       "      <th>...</th>\n",
       "      <td>...</td>\n",
       "      <td>...</td>\n",
       "      <td>...</td>\n",
       "      <td>...</td>\n",
       "      <td>...</td>\n",
       "      <td>...</td>\n",
       "      <td>...</td>\n",
       "      <td>...</td>\n",
       "      <td>...</td>\n",
       "      <td>...</td>\n",
       "      <td>...</td>\n",
       "      <td>...</td>\n",
       "      <td>...</td>\n",
       "      <td>...</td>\n",
       "      <td>...</td>\n",
       "      <td>...</td>\n",
       "      <td>...</td>\n",
       "      <td>...</td>\n",
       "      <td>...</td>\n",
       "    </tr>\n",
       "    <tr>\n",
       "      <th>1304</th>\n",
       "      <td>-0.604318</td>\n",
       "      <td>-1.056295</td>\n",
       "      <td>0</td>\n",
       "      <td>NaN</td>\n",
       "      <td>0.27</td>\n",
       "      <td>0</td>\n",
       "      <td>0</td>\n",
       "      <td>0</td>\n",
       "      <td>0</td>\n",
       "      <td>1</td>\n",
       "      <td>0</td>\n",
       "      <td>0</td>\n",
       "      <td>0</td>\n",
       "      <td>1</td>\n",
       "      <td>0</td>\n",
       "      <td>0</td>\n",
       "      <td>0</td>\n",
       "      <td>0</td>\n",
       "      <td>0</td>\n",
       "    </tr>\n",
       "    <tr>\n",
       "      <th>1305</th>\n",
       "      <td>-1.323457</td>\n",
       "      <td>1.095333</td>\n",
       "      <td>1</td>\n",
       "      <td>NaN</td>\n",
       "      <td>0.65</td>\n",
       "      <td>0</td>\n",
       "      <td>1</td>\n",
       "      <td>0</td>\n",
       "      <td>0</td>\n",
       "      <td>0</td>\n",
       "      <td>1</td>\n",
       "      <td>0</td>\n",
       "      <td>0</td>\n",
       "      <td>1</td>\n",
       "      <td>0</td>\n",
       "      <td>0</td>\n",
       "      <td>1</td>\n",
       "      <td>0</td>\n",
       "      <td>0</td>\n",
       "    </tr>\n",
       "    <tr>\n",
       "      <th>1306</th>\n",
       "      <td>-1.323457</td>\n",
       "      <td>-1.594202</td>\n",
       "      <td>0</td>\n",
       "      <td>NaN</td>\n",
       "      <td>0.27</td>\n",
       "      <td>0</td>\n",
       "      <td>0</td>\n",
       "      <td>0</td>\n",
       "      <td>0</td>\n",
       "      <td>1</td>\n",
       "      <td>0</td>\n",
       "      <td>0</td>\n",
       "      <td>0</td>\n",
       "      <td>1</td>\n",
       "      <td>0</td>\n",
       "      <td>0</td>\n",
       "      <td>0</td>\n",
       "      <td>0</td>\n",
       "      <td>0</td>\n",
       "    </tr>\n",
       "    <tr>\n",
       "      <th>1307</th>\n",
       "      <td>-0.604318</td>\n",
       "      <td>-1.056295</td>\n",
       "      <td>0</td>\n",
       "      <td>NaN</td>\n",
       "      <td>0.27</td>\n",
       "      <td>0</td>\n",
       "      <td>0</td>\n",
       "      <td>0</td>\n",
       "      <td>0</td>\n",
       "      <td>1</td>\n",
       "      <td>0</td>\n",
       "      <td>0</td>\n",
       "      <td>0</td>\n",
       "      <td>1</td>\n",
       "      <td>0</td>\n",
       "      <td>0</td>\n",
       "      <td>0</td>\n",
       "      <td>0</td>\n",
       "      <td>0</td>\n",
       "    </tr>\n",
       "    <tr>\n",
       "      <th>1308</th>\n",
       "      <td>-0.604318</td>\n",
       "      <td>-0.249434</td>\n",
       "      <td>0</td>\n",
       "      <td>NaN</td>\n",
       "      <td>0.65</td>\n",
       "      <td>0</td>\n",
       "      <td>1</td>\n",
       "      <td>0</td>\n",
       "      <td>0</td>\n",
       "      <td>1</td>\n",
       "      <td>0</td>\n",
       "      <td>0</td>\n",
       "      <td>0</td>\n",
       "      <td>0</td>\n",
       "      <td>0</td>\n",
       "      <td>0</td>\n",
       "      <td>0</td>\n",
       "      <td>1</td>\n",
       "      <td>0</td>\n",
       "    </tr>\n",
       "  </tbody>\n",
       "</table>\n",
       "<p>1309 rows × 19 columns</p>\n",
       "</div>"
      ],
      "text/plain": [
       "           Age      Fare  Sex  Survived  Ticket_sr  Married_Woman  Embarked_0  \\\n",
       "0    -1.683026 -1.594202    0       0.0       0.27              0           0   \n",
       "1    -1.323457 -1.325249    1       1.0       0.51              1           1   \n",
       "2    -0.963887 -1.056295    1       1.0       0.27              0           0   \n",
       "3    -1.323457 -0.787341    1       1.0       0.51              1           0   \n",
       "4    -1.323457 -1.056295    0       0.0       0.27              0           0   \n",
       "...        ...       ...  ...       ...        ...            ...         ...   \n",
       "1304 -0.604318 -1.056295    0       NaN       0.27              0           0   \n",
       "1305 -1.323457  1.095333    1       NaN       0.65              0           1   \n",
       "1306 -1.323457 -1.594202    0       NaN       0.27              0           0   \n",
       "1307 -0.604318 -1.056295    0       NaN       0.27              0           0   \n",
       "1308 -0.604318 -0.249434    0       NaN       0.65              0           1   \n",
       "\n",
       "      Embarked_1  Pclass_0  Pclass_1  Deck_0  Deck_1  Deck_2  Family_Size_0  \\\n",
       "0              0         0         1       0       0       0              0   \n",
       "1              0         0         0       1       0       0              0   \n",
       "2              0         0         1       0       0       0              1   \n",
       "3              0         0         0       1       0       0              0   \n",
       "4              0         0         1       0       0       0              1   \n",
       "...          ...       ...       ...     ...     ...     ...            ...   \n",
       "1304           0         0         1       0       0       0              1   \n",
       "1305           0         0         0       1       0       0              1   \n",
       "1306           0         0         1       0       0       0              1   \n",
       "1307           0         0         1       0       0       0              1   \n",
       "1308           0         0         1       0       0       0              0   \n",
       "\n",
       "      Family_Size_1  Family_Size_2  Title_0  Title_1  Title_2  \n",
       "0                 0              0        0        0        0  \n",
       "1                 0              0        1        0        0  \n",
       "2                 0              0        1        0        0  \n",
       "3                 0              0        1        0        0  \n",
       "4                 0              0        0        0        0  \n",
       "...             ...            ...      ...      ...      ...  \n",
       "1304              0              0        0        0        0  \n",
       "1305              0              0        1        0        0  \n",
       "1306              0              0        0        0        0  \n",
       "1307              0              0        0        0        0  \n",
       "1308              0              0        0        1        0  \n",
       "\n",
       "[1309 rows x 19 columns]"
      ]
     },
     "execution_count": 36,
     "metadata": {},
     "output_type": "execute_result"
    }
   ],
   "source": [
    "df_all"
   ]
  },
  {
   "cell_type": "code",
   "execution_count": 37,
   "metadata": {},
   "outputs": [],
   "source": [
    "df_train , df_test = split_df(df_all)"
   ]
  },
  {
   "cell_type": "code",
   "execution_count": 38,
   "metadata": {},
   "outputs": [],
   "source": [
    "df_train_X = df_train.drop('Survived',axis=1)\n",
    "df_train_y = train['Survived']"
   ]
  },
  {
   "cell_type": "code",
   "execution_count": 39,
   "metadata": {},
   "outputs": [],
   "source": [
    "Models = [\n",
    "            {0:LogisticRegression(),1:RandomForestClassifier(n_estimators=100,max_depth=1),2:XGBClassifier(max_depth=1),3:CatBoostClassifier(verbose=0),\n",
    "             4:LinearSVC(),5:DecisionTreeClassifier(),6:RandomForestClassifier(n_estimators=100,max_depth=3),7:XGBClassifier(max_depth=4)},\n",
    "    \n",
    "            {0:LogisticRegression(),1:LinearSVC(),2:DecisionTreeClassifier(),3:RandomForestClassifier(n_estimators=100,max_depth=1),\n",
    "             4:RandomForestClassifier(n_estimators=100,max_depth=4)},\n",
    "    \n",
    "            {0:LogisticRegression(),1:LinearSVC(),2:RandomForestClassifier(n_estimators=100,max_depth=1),\n",
    "             3:RandomForestClassifier(n_estimators=100,max_depth=4)},\n",
    "    \n",
    "            {0:LogisticRegression()}\n",
    "         \n",
    "         ]"
   ]
  },
  {
   "cell_type": "code",
   "execution_count": 40,
   "metadata": {},
   "outputs": [],
   "source": [
    "snet = SNKF(Models,9)"
   ]
  },
  {
   "cell_type": "code",
   "execution_count": 41,
   "metadata": {},
   "outputs": [
    {
     "name": "stdout",
     "output_type": "stream",
     "text": [
      "\n",
      " Accuracy Score of Layer-0 Model-0 = 0.8271604938271605\n",
      "--------------------------------------------------\n",
      "\n",
      "\n",
      " Accuracy Score of Layer-0 Model-1 = 0.7721661054994389\n",
      "--------------------------------------------------\n",
      "\n",
      "\n",
      " Accuracy Score of Layer-0 Model-2 = 0.8237934904601572\n",
      "--------------------------------------------------\n",
      "\n",
      "\n",
      " Accuracy Score of Layer-0 Model-3 = 0.8271604938271605\n",
      "--------------------------------------------------\n",
      "\n",
      "\n",
      " Accuracy Score of Layer-0 Model-4 = 0.8282828282828283\n",
      "--------------------------------------------------\n",
      "\n",
      "\n",
      " Accuracy Score of Layer-0 Model-5 = 0.8047138047138047\n",
      "--------------------------------------------------\n",
      "\n",
      "\n",
      " Accuracy Score of Layer-0 Model-6 = 0.8092031425364759\n",
      "--------------------------------------------------\n",
      "\n",
      "\n",
      " Accuracy Score of Layer-0 Model-7 = 0.8305274971941639\n",
      "--------------------------------------------------\n",
      "\n",
      "\n",
      " Layer 1 Starts Here: --1--1--1--1--1--1--1--1--1--- \n",
      "\n",
      "\n",
      " Accuracy Score of Layer-1 Model-0 = 0.8260381593714927\n",
      "--------------------------------------------------\n",
      "\n",
      "\n",
      " Accuracy Score of Layer-1 Model-1 = 0.8215488215488216\n",
      "--------------------------------------------------\n",
      "\n",
      "\n",
      " Accuracy Score of Layer-1 Model-2 = 0.8170594837261503\n",
      "--------------------------------------------------\n",
      "\n",
      "\n",
      " Accuracy Score of Layer-1 Model-3 = 0.8260381593714927\n",
      "--------------------------------------------------\n",
      "\n",
      "\n",
      " Accuracy Score of Layer-1 Model-4 = 0.8294051627384961\n",
      "--------------------------------------------------\n",
      "\n",
      "\n",
      " Layer 2 Starts Here: --2--2--2--2--2--2--2--2--2--- \n",
      "\n",
      "\n",
      " Accuracy Score of Layer-2 Model-0 = 0.8237934904601572\n",
      "--------------------------------------------------\n",
      "\n",
      "\n",
      " Accuracy Score of Layer-2 Model-1 = 0.8226711560044894\n",
      "--------------------------------------------------\n",
      "\n",
      "\n",
      " Accuracy Score of Layer-2 Model-2 = 0.8237934904601572\n",
      "--------------------------------------------------\n",
      "\n",
      "\n",
      " Accuracy Score of Layer-2 Model-3 = 0.8204264870931538\n",
      "--------------------------------------------------\n",
      "\n",
      "\n",
      " Layer 3 Starts Here: --3--3--3--3--3--3--3--3--3--- \n",
      "\n",
      "\n",
      " Accuracy Score of Layer-3 Model-0 = 0.8204264870931538\n",
      "--------------------------------------------------\n",
      "\n",
      "\n",
      " Layer 4 Starts Here: --4--4--4--4--4--4--4--4--4--- \n",
      "\n"
     ]
    }
   ],
   "source": [
    "snet.fit(df_train_X,df_train_y)"
   ]
  },
  {
   "cell_type": "code",
   "execution_count": 42,
   "metadata": {},
   "outputs": [],
   "source": [
    "#pickle.dump(snet,open('model-6-6-2-1_sub-2','wb'))\n",
    "#c= pickle.load(open('model-6-6-2-1_sub-2','rb'))"
   ]
  },
  {
   "cell_type": "code",
   "execution_count": 43,
   "metadata": {},
   "outputs": [],
   "source": [
    "final_predictions = snet.predict(df_test)"
   ]
  },
  {
   "cell_type": "code",
   "execution_count": 44,
   "metadata": {},
   "outputs": [],
   "source": [
    "# MODEL_NAME = f'model-6-6-2-1{int(time.time())}'\n",
    "# with open('model.log','a') as f:\n",
    "#     f.write(f'{MODEL_NAME}\\n')\n",
    "#     for i in range(len(final_predictions[0])):    \n",
    "#         f.write(f'{final_predictions[0][i]}\\n')"
   ]
  },
  {
   "cell_type": "code",
   "execution_count": 45,
   "metadata": {},
   "outputs": [],
   "source": [
    "final_predictions.columns = ['Survived']"
   ]
  },
  {
   "cell_type": "code",
   "execution_count": 46,
   "metadata": {},
   "outputs": [],
   "source": [
    "# with open('model.log') as f:\n",
    "#     content = f.read().splitlines()\n",
    "# s1 = content[1:419]\n",
    "# s2 = content[420:]\n",
    "# x=0\n",
    "# for i in range(418):\n",
    "#     if s1[i] == s2[i]:\n",
    "#        x+=1 \n",
    "# print(x)    "
   ]
  },
  {
   "cell_type": "code",
   "execution_count": 47,
   "metadata": {},
   "outputs": [],
   "source": [
    "final_predictions = pd.concat([test['PassengerId'],final_predictions],axis=1)"
   ]
  },
  {
   "cell_type": "code",
   "execution_count": 48,
   "metadata": {},
   "outputs": [],
   "source": [
    "final_predictions.to_csv('Data/submission.csv',index=False)"
   ]
  }
 ],
 "metadata": {
  "kernelspec": {
   "display_name": "Python 3",
   "language": "python",
   "name": "python3"
  },
  "language_info": {
   "codemirror_mode": {
    "name": "ipython",
    "version": 3
   },
   "file_extension": ".py",
   "mimetype": "text/x-python",
   "name": "python",
   "nbconvert_exporter": "python",
   "pygments_lexer": "ipython3",
   "version": "3.7.6"
  }
 },
 "nbformat": 4,
 "nbformat_minor": 4
}
